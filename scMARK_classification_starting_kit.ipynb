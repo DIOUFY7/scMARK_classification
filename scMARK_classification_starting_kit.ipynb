{
 "cells": [
  {
   "cell_type": "markdown",
   "metadata": {},
   "source": [
    "<div>\n",
    "<table style=\"width:100%; background-color:transparent;\">\n",
    "  <tr style=\"background-color:transparent;\">\n",
    "     <td align=\"left\"; style=\"background-color:transparent; width: 33%;\"><a href=\"http://www.math-evry.cnrs.fr/departement/doku.php?id=formation:master:m2ds\"><img src=\"https://github.com/ramp-kits/scMARK_classification/raw/main/evry_logo.png\" width=\"65%\"></a></td>\n",
    "    <td align=\"center\"; style=\"background-color:transparent; width: 33%;\"><a href = \"https://dataia.eu/\"><img src=\"https://github.com/ramp-kits/bovine_embryo_survival_prediction/raw/main/DATAIA-h.png\" width=\"80%\"></a></td>\n",
    "    <td align=\"right\"; style=\"background-color:transparent; width: 33%;\"><a href=\"https://www.inrae.fr\"><img src=\"https://www.inrae.fr/themes/custom/inrae_socle/logo.svg\" width=\"40%\"></a></td>\n",
    "  </tr>\n",
    "</table> \n",
    "</div>\n",
    "\n",
    "\n",
    "<center><h1>Single-cell RNA-seq classification</h1></center>\n",
    "\n",
    "<center><h3>A RAMP data-challenge on the prediction of cellular types based on genes expression level </h3></center>\n",
    "<br/>\n",
    "\n",
    "\n",
    "<center><i>Nicolas Jouvin (MIA Paris-Saclay, Associate Professor @ Univ. Paris-Saclay), François Caud (DATAIA, Univ. Paris-Saclay) </i></center>"
   ]
  },
  {
   "cell_type": "markdown",
   "metadata": {},
   "source": [
    "<center><h4> This data-challenge was created for the data-camp course of the Master 2 Data-Science of Université Évry (Paris-Saclay) </h4></center>\n",
    "\n",
    "# Introduction \n",
    "\n",
    "Biologically, [it is known that](https://www.ncbi.nlm.nih.gov/books/NBK26885/), while cells carry (almost) the same genomic information, they tend to *express* only a fraction of their genes leading to specialization into specific *types* with different biological functions. Thus, cell-types study and classification is of primary interest for many biological and medical applications. In the past decade, measuring genes expression level at the scale of a unique cell has become possible with the rise of high-throughput technologies named single-cell RNA-seq (scRNA-seq).\n",
    "\n",
    "The goal of this data challenge is the **supervised** classification of cell-types thanks to the **scMARK** benchmark dataset from [Mendonca et. al](https://www.biorxiv.org/content/10.1101/2021.12.08.471773v1). The authors compiled 100, 000 cells expression from 10 different studies to serve as a comparison for different machine learning approaches, in an analogy with the MNIST benchmark dataset for computer vision. \n",
    "\n",
    "This data-challenge uses a small extraction with only 4 cell-types (the labels to predict)from **scMARK**, :\n",
    "\n",
    "    1. Cancer_cells\n",
    "    2. NK_cells\n",
    "    3. T_cells_CD4+\n",
    "    4. T_cells_CD8+\n",
    "    \n",
    "The public dataset contains 1500 points splitted in 1000 training points and 500 test points. It will serve as your local benchmark for develloping your submissions. On the server side, your submission will use the whole 1500 public points as the training set, and another **private and unavailable test** dataset, containing 1500 supplementary test points, will be used for the ranking of participants. The labels' distribution in the public (resp. private) training and testing datasets are the same."
   ]
  },
  {
   "cell_type": "markdown",
   "metadata": {},
   "source": [
    "# Setup \n",
    "\n",
    "If marked as `code`, the two following cells will \n",
    "\n",
    "* install the required package dependencies\n",
    "* download the public data on OSF\n",
    "\n",
    "They are disabled by default since you only have to call these command once (in your dedicated Python env). You can examine the file, `requirements.txt`, included in the repo to view the list of dependencies."
   ]
  },
  {
   "cell_type": "raw",
   "metadata": {
    "tags": []
   },
   "source": [
    "!pip install -r requirements.txt"
   ]
  },
  {
   "cell_type": "raw",
   "metadata": {
    "tags": []
   },
   "source": [
    "!python download_data.py"
   ]
  },
  {
   "cell_type": "markdown",
   "metadata": {},
   "source": [
    "<div class=\"alert alert-block alert-info\">\n",
    "<b>Info:</b> Due to the structure of the challenge, libraries not included in `requirements.txt` will need to be added via a pull request to the <a href=https://github.com/ramp-kits/scMARK_classification> GitHub repo </a>.\n",
    "</div> "
   ]
  },
  {
   "cell_type": "code",
   "execution_count": 1,
   "metadata": {
    "tags": []
   },
   "outputs": [],
   "source": [
    "import matplotlib.pyplot as plt\n",
    "import pandas as pd\n",
    "import numpy as np"
   ]
  },
  {
   "cell_type": "markdown",
   "metadata": {},
   "source": [
    "# The data \n",
    "\n",
    "### Loading data \n",
    "Raw data are stored in h5ad format which can be read via the `scanpy.read_h5ad` function which returns an [AnnData](https://anndata.readthedocs.io/) object.\n",
    "\n",
    "The `problem.py` file contains the definition of the data-challenge according to the RAMP framework. In addition, it contains an helper functions to import data. "
   ]
  },
  {
   "cell_type": "code",
   "execution_count": 2,
   "metadata": {},
   "outputs": [],
   "source": [
    "from problem import get_train_data, get_test_data\n",
    "X_train, y_train = get_train_data()\n",
    "X_test, y_test = get_test_data()"
   ]
  },
  {
   "cell_type": "markdown",
   "metadata": {},
   "source": [
    "#### Labels proportions\n",
    "A first inspection of the labels indicates that the class are imbalanced. \n",
    "> Note: the same analysis may be conducted for y_test."
   ]
  },
  {
   "cell_type": "code",
   "execution_count": 3,
   "metadata": {
    "tags": []
   },
   "outputs": [
    {
     "data": {
      "text/plain": [
       "label       \n",
       "T_cells_CD8+    0.342\n",
       "T_cells_CD4+    0.336\n",
       "Cancer_cells    0.237\n",
       "NK_cells        0.085\n",
       "dtype: float64"
      ]
     },
     "execution_count": 3,
     "metadata": {},
     "output_type": "execute_result"
    }
   ],
   "source": [
    "lab_df=pd.DataFrame({'label': y_train})\n",
    "lab_df.value_counts(normalize=True)"
   ]
  },
  {
   "cell_type": "code",
   "execution_count": 4,
   "metadata": {
    "tags": []
   },
   "outputs": [
    {
     "data": {
      "text/plain": [
       "<AxesSubplot: >"
      ]
     },
     "execution_count": 4,
     "metadata": {},
     "output_type": "execute_result"
    },
    {
     "data": {
      "image/png": "[encoded data removed]",
      "text/plain": [
       "<Figure size 640x480 with 1 Axes>"
      ]
     },
     "metadata": {},
     "output_type": "display_data"
    }
   ],
   "source": [
    "lab_df.label.hist()"
   ]
  },
  {
   "cell_type": "markdown",
   "metadata": {},
   "source": [
    "#### Sparse matrix and NumPy arrays\n",
    "\n",
    "Secondly, looking at the features"
   ]
  },
  {
   "cell_type": "code",
   "execution_count": 5,
   "metadata": {
    "tags": []
   },
   "outputs": [
    {
     "name": "stdout",
     "output_type": "stream",
     "text": [
      "(1000, 14059)\n",
      "<class 'scipy.sparse._csr.csr_matrix'>\n"
     ]
    }
   ],
   "source": [
    "print(X_train.shape)\n",
    "print(type(X_train))"
   ]
  },
  {
   "cell_type": "markdown",
   "metadata": {},
   "source": [
    "We see that we have a fairly high dimensional problem with 1000 data points (unique cells) described by 14059 variables (genes). Since we measure expression level, the data is quite sparse, with many unexpressed genes for each cell. Thus, `get_*_data()` functions returns $X$ as a `scipy` [sparse matrix stored in row format](https://docs.scipy.org/doc/scipy/reference/generated/scipy.sparse.csr_matrix.html). This is useful \n",
    "\n",
    "    1. To save memory space\n",
    "    2. Some algorithm may work with scipy's sparse CSR matrices.\n",
    "\n",
    "Of course many existing algorithm, *e.g.* in scikit-learn, may throw error when given such an object, requiring a `np.array` type. Thankfully the `.toarray()` method straightforwadly converts to NumPy."
   ]
  },
  {
   "cell_type": "code",
   "execution_count": 6,
   "metadata": {},
   "outputs": [
    {
     "data": {
      "text/plain": [
       "array([[1., 0., 0., ..., 3., 2., 0.],\n",
       "       [0., 0., 0., ..., 0., 0., 0.],\n",
       "       [0., 0., 0., ..., 0., 0., 0.],\n",
       "       ...,\n",
       "       [1., 0., 0., ..., 0., 0., 0.],\n",
       "       [0., 0., 0., ..., 1., 0., 0.],\n",
       "       [0., 0., 0., ..., 0., 0., 0.]], dtype=float32)"
      ]
     },
     "execution_count": 6,
     "metadata": {},
     "output_type": "execute_result"
    }
   ],
   "source": [
    "X_train.toarray()"
   ]
  },
  {
   "cell_type": "markdown",
   "metadata": {},
   "source": [
    "### A first look at the data\n",
    "\n",
    "<div class=\"alert alert-block alert-warning\">\n",
    "<b>Warning:</b> This section purposedly presents a naive example of data manipulation. It is expected of you to dive deeper into the data analysis and do proper pre-processing. \n",
    "\n",
    "</div> \n",
    "\n",
    "\n",
    "A particularity of RNA-seq data is that total counts may vary widely between cells and/or genes.\n"
   ]
  },
  {
   "cell_type": "code",
   "execution_count": 7,
   "metadata": {
    "tags": []
   },
   "outputs": [],
   "source": [
    "total_genes_counts = X_train.toarray().sum(axis=0)\n",
    "total_cell_counts = X_train.toarray().sum(axis=1)"
   ]
  },
  {
   "cell_type": "code",
   "execution_count": 8,
   "metadata": {
    "tags": []
   },
   "outputs": [
    {
     "data": {
      "image/png": "[encoded data removed]",
      "text/plain": [
       "<Figure size 640x480 with 1 Axes>"
      ]
     },
     "metadata": {},
     "output_type": "display_data"
    }
   ],
   "source": [
    "# plt.hist(np.log10(total_genes_counts), bins = np.arange(6))\n",
    "plt.hist(total_genes_counts, bins = 10**np.arange(6))\n",
    "plt.xscale(\"log\")\n",
    "plt.title(\"Histogram of total gene (i.e. column) counts in log-scale.\")\n",
    "plt.xlabel('Total genes count (log-scale)')\n",
    "plt.show()"
   ]
  },
  {
   "cell_type": "code",
   "execution_count": 9,
   "metadata": {
    "tags": []
   },
   "outputs": [
    {
     "data": {
      "image/png": "[encoded data removed]",
      "text/plain": [
       "<Figure size 640x480 with 1 Axes>"
      ]
     },
     "metadata": {},
     "output_type": "display_data"
    }
   ],
   "source": [
    "plt.hist(np.log10(total_cell_counts), bins = np.arange(1,6))\n",
    "plt.title(\"Histogram of log-total cell (i.e. row) counts.\")\n",
    "plt.xlabel('log(cell_count)')\n",
    "plt.show()"
   ]
  },
  {
   "cell_type": "markdown",
   "metadata": {},
   "source": [
    "This suggests for some normalization of the counts. There are many normalization possible for RNA-seq data, and one of the goal of this challenge is to test for different pre-processing. For simplicity, here we choose to normalize each row (cell) by its total count."
   ]
  },
  {
   "cell_type": "code",
   "execution_count": 10,
   "metadata": {
    "tags": []
   },
   "outputs": [
    {
     "data": {
      "text/plain": [
       "True"
      ]
     },
     "execution_count": 10,
     "metadata": {},
     "output_type": "execute_result"
    }
   ],
   "source": [
    "def preprocess_X(X):\n",
    "    X = X.toarray()\n",
    "    return X / X.sum(axis=1)[:, np.newaxis]\n",
    "\n",
    "X_train_norm = preprocess_X(X_train)\n",
    "# sanity check\n",
    "np.allclose(X_train_norm.sum(axis=1), np.ones(X_train_norm.shape[0]))"
   ]
  },
  {
   "cell_type": "markdown",
   "metadata": {},
   "source": [
    "# The score function\n",
    "\n",
    "This challenge scores your submissions and ranks participants with a balanced accuracy score, computed via the (unadjusted) sklearn'n `balanced_accuracy_score` function.\n",
    "\n",
    "Balanced accuracy is computed as the average of Recall scores for each class [see implementation for more details](https://github.com/scikit-learn/scikit-learn/blob/8c9c1f27b/sklearn/metrics/_classification.py#L2180). It is between 0 and 1, the higher, the better."
   ]
  },
  {
   "cell_type": "code",
   "execution_count": 11,
   "metadata": {},
   "outputs": [],
   "source": [
    "from sklearn.metrics import balanced_accuracy_score"
   ]
  },
  {
   "cell_type": "code",
   "execution_count": 12,
   "metadata": {},
   "outputs": [],
   "source": [
    "# this custom class is used by the challenge and calls \n",
    "# balanced_accuracy_score(y_true, y_pred, unadjusted=False)\n",
    "# under the hood\n",
    "from problem import BalancedAccuracy"
   ]
  },
  {
   "cell_type": "markdown",
   "metadata": {},
   "source": [
    "# A first (naive) try at the challenge\n",
    "We now show a first naive attempt at the challenge, and will proceed in two steps :\n",
    "\n",
    "    1. First, we will construct a classifier step-by-step. \n",
    "    2. Then, we will show how to implement this classifier as a proper RAMP submision.\n",
    "## Step-by-step construction of a classifier\n",
    "\n",
    "Given the high-dimensional nature of the problem we will construct a classifier: standardize data, do a PCA retaining only the 50 first components, and finally fit a random forest classifier on the 50 first compoents.\n",
    "\n",
    "This can be easily implemented as a scikit-learn `Pipeline`."
   ]
  },
  {
   "cell_type": "code",
   "execution_count": 13,
   "metadata": {
    "tags": []
   },
   "outputs": [
    {
     "data": {
      "text/html": [
       "<style>#sk-container-id-1 {color: black;background-color: white;}#sk-container-id-1 pre{padding: 0;}#sk-container-id-1 div.sk-toggleable {background-color: white;}#sk-container-id-1 label.sk-toggleable__label {cursor: pointer;display: block;width: 100%;margin-bottom: 0;padding: 0.3em;box-sizing: border-box;text-align: center;}#sk-container-id-1 label.sk-toggleable__label-arrow:before {content: \"▸\";float: left;margin-right: 0.25em;color: #696969;}#sk-container-id-1 label.sk-toggleable__label-arrow:hover:before {color: black;}#sk-container-id-1 div.sk-estimator:hover label.sk-toggleable__label-arrow:before {color: black;}#sk-container-id-1 div.sk-toggleable__content {max-height: 0;max-width: 0;overflow: hidden;text-align: left;background-color: #f0f8ff;}#sk-container-id-1 div.sk-toggleable__content pre {margin: 0.2em;color: black;border-radius: 0.25em;background-color: #f0f8ff;}#sk-container-id-1 input.sk-toggleable__control:checked~div.sk-toggleable__content {max-height: 200px;max-width: 100%;overflow: auto;}#sk-container-id-1 input.sk-toggleable__control:checked~label.sk-toggleable__label-arrow:before {content: \"▾\";}#sk-container-id-1 div.sk-estimator input.sk-toggleable__control:checked~label.sk-toggleable__label {background-color: #d4ebff;}#sk-container-id-1 div.sk-label input.sk-toggleable__control:checked~label.sk-toggleable__label {background-color: #d4ebff;}#sk-container-id-1 input.sk-hidden--visually {border: 0;clip: rect(1px 1px 1px 1px);clip: rect(1px, 1px, 1px, 1px);height: 1px;margin: -1px;overflow: hidden;padding: 0;position: absolute;width: 1px;}#sk-container-id-1 div.sk-estimator {font-family: monospace;background-color: #f0f8ff;border: 1px dotted black;border-radius: 0.25em;box-sizing: border-box;margin-bottom: 0.5em;}#sk-container-id-1 div.sk-estimator:hover {background-color: #d4ebff;}#sk-container-id-1 div.sk-parallel-item::after {content: \"\";width: 100%;border-bottom: 1px solid gray;flex-grow: 1;}#sk-container-id-1 div.sk-label:hover label.sk-toggleable__label {background-color: #d4ebff;}#sk-container-id-1 div.sk-serial::before {content: \"\";position: absolute;border-left: 1px solid gray;box-sizing: border-box;top: 0;bottom: 0;left: 50%;z-index: 0;}#sk-container-id-1 div.sk-serial {display: flex;flex-direction: column;align-items: center;background-color: white;padding-right: 0.2em;padding-left: 0.2em;position: relative;}#sk-container-id-1 div.sk-item {position: relative;z-index: 1;}#sk-container-id-1 div.sk-parallel {display: flex;align-items: stretch;justify-content: center;background-color: white;position: relative;}#sk-container-id-1 div.sk-item::before, #sk-container-id-1 div.sk-parallel-item::before {content: \"\";position: absolute;border-left: 1px solid gray;box-sizing: border-box;top: 0;bottom: 0;left: 50%;z-index: -1;}#sk-container-id-1 div.sk-parallel-item {display: flex;flex-direction: column;z-index: 1;position: relative;background-color: white;}#sk-container-id-1 div.sk-parallel-item:first-child::after {align-self: flex-end;width: 50%;}#sk-container-id-1 div.sk-parallel-item:last-child::after {align-self: flex-start;width: 50%;}#sk-container-id-1 div.sk-parallel-item:only-child::after {width: 0;}#sk-container-id-1 div.sk-dashed-wrapped {border: 1px dashed gray;margin: 0 0.4em 0.5em 0.4em;box-sizing: border-box;padding-bottom: 0.4em;background-color: white;}#sk-container-id-1 div.sk-label label {font-family: monospace;font-weight: bold;display: inline-block;line-height: 1.2em;}#sk-container-id-1 div.sk-label-container {text-align: center;}#sk-container-id-1 div.sk-container {/* jupyter's `normalize.less` sets `[hidden] { display: none; }` but bootstrap.min.css set `[hidden] { display: none !important; }` so we also need the `!important` here to be able to override the default hidden behavior on the sphinx rendered scikit-learn.org. See: https://github.com/scikit-learn/scikit-learn/issues/21755 */display: inline-block !important;position: relative;}#sk-container-id-1 div.sk-text-repr-fallback {display: none;}</style><div id=\"sk-container-id-1\" class=\"sk-top-container\"><div class=\"sk-text-repr-fallback\"><pre>Pipeline(steps=[(&#x27;Scaler&#x27;, StandardScaler()),\n",
       "                (&#x27;PCA with 50 components&#x27;, PCA(n_components=50)),\n",
       "                (&#x27;Random Forest Classifier&#x27;,\n",
       "                 RandomForestClassifier(max_depth=5, max_features=3))])</pre><b>In a Jupyter environment, please rerun this cell to show the HTML representation or trust the notebook. <br />On GitHub, the HTML representation is unable to render, please try loading this page with nbviewer.org.</b></div><div class=\"sk-container\" hidden><div class=\"sk-item sk-dashed-wrapped\"><div class=\"sk-label-container\"><div class=\"sk-label sk-toggleable\"><input class=\"sk-toggleable__control sk-hidden--visually\" id=\"sk-estimator-id-1\" type=\"checkbox\" ><label for=\"sk-estimator-id-1\" class=\"sk-toggleable__label sk-toggleable__label-arrow\">Pipeline</label><div class=\"sk-toggleable__content\"><pre>Pipeline(steps=[(&#x27;Scaler&#x27;, StandardScaler()),\n",
       "                (&#x27;PCA with 50 components&#x27;, PCA(n_components=50)),\n",
       "                (&#x27;Random Forest Classifier&#x27;,\n",
       "                 RandomForestClassifier(max_depth=5, max_features=3))])</pre></div></div></div><div class=\"sk-serial\"><div class=\"sk-item\"><div class=\"sk-estimator sk-toggleable\"><input class=\"sk-toggleable__control sk-hidden--visually\" id=\"sk-estimator-id-2\" type=\"checkbox\" ><label for=\"sk-estimator-id-2\" class=\"sk-toggleable__label sk-toggleable__label-arrow\">StandardScaler</label><div class=\"sk-toggleable__content\"><pre>StandardScaler()</pre></div></div></div><div class=\"sk-item\"><div class=\"sk-estimator sk-toggleable\"><input class=\"sk-toggleable__control sk-hidden--visually\" id=\"sk-estimator-id-3\" type=\"checkbox\" ><label for=\"sk-estimator-id-3\" class=\"sk-toggleable__label sk-toggleable__label-arrow\">PCA</label><div class=\"sk-toggleable__content\"><pre>PCA(n_components=50)</pre></div></div></div><div class=\"sk-item\"><div class=\"sk-estimator sk-toggleable\"><input class=\"sk-toggleable__control sk-hidden--visually\" id=\"sk-estimator-id-4\" type=\"checkbox\" ><label for=\"sk-estimator-id-4\" class=\"sk-toggleable__label sk-toggleable__label-arrow\">RandomForestClassifier</label><div class=\"sk-toggleable__content\"><pre>RandomForestClassifier(max_depth=5, max_features=3)</pre></div></div></div></div></div></div></div>"
      ],
      "text/plain": [
       "Pipeline(steps=[('Scaler', StandardScaler()),\n",
       "                ('PCA with 50 components', PCA(n_components=50)),\n",
       "                ('Random Forest Classifier',\n",
       "                 RandomForestClassifier(max_depth=5, max_features=3))])"
      ]
     },
     "execution_count": 13,
     "metadata": {},
     "output_type": "execute_result"
    }
   ],
   "source": [
    "from sklearn.pipeline import Pipeline\n",
    "from sklearn.preprocessing import StandardScaler\n",
    "from sklearn.decomposition import PCA\n",
    "from sklearn.ensemble import RandomForestClassifier\n",
    "\n",
    "\n",
    "pipe = Pipeline(\n",
    "    [\n",
    "        (\"Scaler\", StandardScaler(with_mean=True, with_std=True)),\n",
    "        (\"PCA with 50 components\", PCA(n_components=50)),\n",
    "        (\n",
    "            \"Random Forest Classifier\",\n",
    "            RandomForestClassifier(\n",
    "                max_depth=5, n_estimators=100, max_features=3\n",
    "            ),\n",
    "        ),\n",
    "    ]\n",
    ")\n",
    "\n",
    "pipe"
   ]
  },
  {
   "cell_type": "code",
   "execution_count": 14,
   "metadata": {
    "tags": []
   },
   "outputs": [],
   "source": [
    "# fit on train\n",
    "pipe.fit(X_train_norm, y_train)\n",
    "y_tr_pred = pipe.predict(X_train_norm)\n",
    "\n",
    "# predict on test\n",
    "X_test_norm = preprocess_X(X_test)\n",
    "y_te_pred = pipe.predict(X_test_norm)\n"
   ]
  },
  {
   "cell_type": "code",
   "execution_count": 15,
   "metadata": {
    "tags": []
   },
   "outputs": [
    {
     "name": "stdout",
     "output_type": "stream",
     "text": [
      "Train balanced accuracy : 0.853\n",
      "Test balanced accuracy : 0.705\n"
     ]
    },
    {
     "name": "stderr",
     "output_type": "stream",
     "text": [
      "/home/nicolas/anaconda3/envs/data-camp/lib/python3.10/site-packages/sklearn/metrics/_classification.py:2184: UserWarning: y_pred contains classes not in y_true\n",
      "  warnings.warn(\"y_pred contains classes not in y_true\")\n"
     ]
    },
    {
     "data": {
      "text/plain": [
       "Text(0.5, 1.0, 'Confusion matrix on test set')"
      ]
     },
     "execution_count": 15,
     "metadata": {},
     "output_type": "execute_result"
    },
    {
     "data": {
      "image/png": "[encoded data removed]",
      "text/plain": [
       "<Figure size 640x480 with 2 Axes>"
      ]
     },
     "metadata": {},
     "output_type": "display_data"
    }
   ],
   "source": [
    "from sklearn.metrics import confusion_matrix\n",
    "from sklearn.metrics import ConfusionMatrixDisplay\n",
    "\n",
    "# compute balanced accuracy and confusion matrix\n",
    "print(f\"Train balanced accuracy : {balanced_accuracy_score(y_tr_pred, y_train):.3f}\")\n",
    "print(f\"Test balanced accuracy : {balanced_accuracy_score(y_te_pred, y_test):.3f}\")\n",
    "cm = confusion_matrix(y_test, y_te_pred)\n",
    "disp = ConfusionMatrixDisplay(confusion_matrix=cm, display_labels=pipe.classes_, )\n",
    "disp.plot()\n",
    "plt.title(\"Confusion matrix on test set\")"
   ]
  },
  {
   "cell_type": "markdown",
   "metadata": {},
   "source": [
    "This naive classifier does a better job than a dummy random classifier which would yield an average balanced accuracy of 1/4. \n",
    "However, it never predicts the \"NK_cell\" type and seems to confuse between the two different \"T-cell\" types. There seems to be room for improvement. Good news, it is your job ! :)\n",
    "\n",
    "Next, let's see how to implement this exact same classifier as a receivable RAMP submission"
   ]
  },
  {
   "cell_type": "markdown",
   "metadata": {},
   "source": [
    "## Designing the RAMP submission\n",
    "The RAMP challenge is automatized and a submission requires a specific structure described below.\n",
    "\n",
    "\n",
    "### Mandatory structure of a submission\n",
    "\n",
    "\n",
    "A submission is stored in `./submissions/<submission_foldername>/` and must contain a Python file named `classifier.py`.\n",
    "\n",
    "This python script must itself implement (at least) a custom `Classifier` class with\n",
    " * A `fit(X, y)` method.\n",
    " * A `predict_proba(X)` method.\n",
    " \n",
    "**Warning**: the `X` argument must be understood as the sparse CSR count data matrix obtained by `get_train_data()`. Thus any pre-processing of the count matrix must be done inside the methods.\n",
    "\n",
    "We illustrate this below with the naive classifier already implemented.\n",
    "\n",
    "### Illustration with the naive classifier\n",
    "\n",
    "> Note: The following class is also implemented in `./submissions/starting_kit/classifier.py`."
   ]
  },
  {
   "cell_type": "code",
   "execution_count": 16,
   "metadata": {
    "tags": []
   },
   "outputs": [],
   "source": [
    "import numpy as np\n",
    "from sklearn.preprocessing import StandardScaler\n",
    "from sklearn.decomposition import PCA\n",
    "from sklearn.ensemble import RandomForestClassifier\n",
    "from sklearn.pipeline import make_pipeline\n",
    "\n",
    "\n",
    "def _preprocess_X(X_sparse):\n",
    "    # cast a dense array\n",
    "    X = X_sparse.toarray()\n",
    "\n",
    "    # normalize each row\n",
    "    return X / X.sum(axis=1)[:, np.newaxis]\n",
    "\n",
    "\n",
    "class Classifier(object):\n",
    "    def __init__(self):\n",
    "        # Use scikit-learn's pipeline\n",
    "        self.pipe = make_pipeline(\n",
    "            StandardScaler(with_mean=True, with_std=True),\n",
    "            PCA(n_components=50),\n",
    "            RandomForestClassifier(\n",
    "                max_depth=5, n_estimators=100, \n",
    "                max_features=3\n",
    "            ),\n",
    "        )\n",
    "\n",
    "    def fit(self, X_sparse, y):\n",
    "        X = _preprocess_X(X_sparse)\n",
    "        self.pipe.fit(X, y)\n",
    "        self.classes_ = self.pipe.classes_\n",
    "        pass\n",
    "\n",
    "    def predict_proba(self, X_sparse):\n",
    "        X = _preprocess_X(X_sparse)\n",
    "        # here we use RandomForest.predict_proba()\n",
    "        return self.pipe.predict_proba(X)\n"
   ]
  },
  {
   "cell_type": "markdown",
   "metadata": {},
   "source": [
    "Below is a simplified version of what RAMP does with your submission."
   ]
  },
  {
   "cell_type": "code",
   "execution_count": 17,
   "metadata": {
    "tags": []
   },
   "outputs": [],
   "source": [
    "clf = Classifier()\n",
    "clf.fit(X_train, y_train)\n",
    "# predict_proba \n",
    "y_tr_pred_proba = clf.predict_proba(X_train)\n",
    "y_te_pred_proba = clf.predict_proba(X_test)\n",
    "\n",
    "# convert to hard classification with argmax\n",
    "y_tr_pred = clf.classes_[np.argmax(y_tr_pred_proba, axis=1)]\n",
    "y_te_pred = clf.classes_[np.argmax(y_te_pred_proba, axis=1)]"
   ]
  },
  {
   "cell_type": "code",
   "execution_count": 18,
   "metadata": {
    "tags": []
   },
   "outputs": [
    {
     "name": "stdout",
     "output_type": "stream",
     "text": [
      "Train balanced accuracy: 0.6924698815791028\n",
      "Test balanced accuracy: 0.5734569474533793\n"
     ]
    }
   ],
   "source": [
    "print('Train balanced accuracy:', balanced_accuracy_score(y_train, y_tr_pred))\n",
    "print('Test balanced accuracy:', balanced_accuracy_score(y_test, y_te_pred))"
   ]
  },
  {
   "cell_type": "markdown",
   "metadata": {},
   "source": [
    "In reality things are a bit more sophisticated. **Locally**, the RAMP platform use a 5-fold cross-validation scheme implemented for you in the `get_cv` method. The best classifier is then kept (bagged score should be ignored). Moreover, the classifier's performance is evaluated on a separate test set which can be loaded just as the training data. \n",
    "\n",
    "The good news is, RAMP automatize everything for you thanks to ramp-test.\n",
    "\n",
    "### Submitting to RAMP\n",
    "\n",
    "Before submitting to RAMP, you can test your solution locally to ensure that trivial errors (e.g. typos, path issues, etc.) are resolved. We can test a given submission using the `ramp-test` command that was installed in the virtual environment.  \n",
    "\n",
    "We'll use the following command:  \n",
    "\n",
    "`!ramp-test --submission <subm_folder> --quick-test` \n",
    "\n",
    "The `!` signals that the command should be run on the command line instead of this notebook.  \n",
    "`ramp-test` is the command to be executed. It signals ramp to perform a local test. \n",
    "\n",
    "`--submission <subm_folder>` specifies which submission to run. You can have multiple potential submissions in the `submissions/` directory; this prevents `ramp` from running all of them.  "
   ]
  },
  {
   "cell_type": "code",
   "execution_count": 19,
   "metadata": {
    "tags": []
   },
   "outputs": [
    {
     "name": "stdout",
     "output_type": "stream",
     "text": [
      "\u001b[38;5;178m\u001b[1mTesting Single-cell RNA-seq cell types classification\u001b[0m\n",
      "\u001b[38;5;178m\u001b[1mReading train and test files from ./data/ ...\u001b[0m\n",
      "\u001b[38;5;178m\u001b[1mReading cv ...\u001b[0m\n",
      "\u001b[38;5;178m\u001b[1mTraining submissions/starting_kit ...\u001b[0m\n",
      "\u001b[38;5;178m\u001b[1mCV fold 0\u001b[0m\n",
      "\t\u001b[38;5;178m\u001b[1mscore  bal_acc      time\u001b[0m\n",
      "\t\u001b[38;5;10m\u001b[1mtrain\u001b[0m     \u001b[38;5;10m\u001b[1m0.70\u001b[0m  \u001b[38;5;150m1.043077\u001b[0m\n",
      "\t\u001b[38;5;12m\u001b[1mvalid\u001b[0m     \u001b[38;5;12m\u001b[1m0.58\u001b[0m  \u001b[38;5;105m0.320186\u001b[0m\n",
      "\t\u001b[38;5;1m\u001b[1mtest\u001b[0m      \u001b[38;5;1m\u001b[1m0.57\u001b[0m  \u001b[38;5;218m0.255205\u001b[0m\n",
      "\u001b[38;5;178m\u001b[1mCV fold 1\u001b[0m\n",
      "\t\u001b[38;5;178m\u001b[1mscore  bal_acc      time\u001b[0m\n",
      "\t\u001b[38;5;10m\u001b[1mtrain\u001b[0m     \u001b[38;5;10m\u001b[1m0.74\u001b[0m  \u001b[38;5;150m1.310148\u001b[0m\n",
      "\t\u001b[38;5;12m\u001b[1mvalid\u001b[0m     \u001b[38;5;12m\u001b[1m0.58\u001b[0m  \u001b[38;5;105m0.387882\u001b[0m\n",
      "\t\u001b[38;5;1m\u001b[1mtest\u001b[0m      \u001b[38;5;1m\u001b[1m0.58\u001b[0m  \u001b[38;5;218m0.160826\u001b[0m\n",
      "\u001b[38;5;178m\u001b[1mCV fold 2\u001b[0m\n",
      "\t\u001b[38;5;178m\u001b[1mscore  bal_acc      time\u001b[0m\n",
      "\t\u001b[38;5;10m\u001b[1mtrain\u001b[0m     \u001b[38;5;10m\u001b[1m0.71\u001b[0m  \u001b[38;5;150m1.209353\u001b[0m\n",
      "\t\u001b[38;5;12m\u001b[1mvalid\u001b[0m     \u001b[38;5;12m\u001b[1m0.58\u001b[0m  \u001b[38;5;105m0.339839\u001b[0m\n",
      "\t\u001b[38;5;1m\u001b[1mtest\u001b[0m      \u001b[38;5;1m\u001b[1m0.55\u001b[0m  \u001b[38;5;218m0.169503\u001b[0m\n",
      "\u001b[38;5;178m\u001b[1mCV fold 3\u001b[0m\n",
      "\t\u001b[38;5;178m\u001b[1mscore  bal_acc      time\u001b[0m\n",
      "\t\u001b[38;5;10m\u001b[1mtrain\u001b[0m     \u001b[38;5;10m\u001b[1m0.73\u001b[0m  \u001b[38;5;150m1.927488\u001b[0m\n",
      "\t\u001b[38;5;12m\u001b[1mvalid\u001b[0m     \u001b[38;5;12m\u001b[1m0.59\u001b[0m  \u001b[38;5;105m0.328983\u001b[0m\n",
      "\t\u001b[38;5;1m\u001b[1mtest\u001b[0m      \u001b[38;5;1m\u001b[1m0.58\u001b[0m  \u001b[38;5;218m0.141504\u001b[0m\n",
      "\u001b[38;5;178m\u001b[1mCV fold 4\u001b[0m\n",
      "\t\u001b[38;5;178m\u001b[1mscore  bal_acc      time\u001b[0m\n",
      "\t\u001b[38;5;10m\u001b[1mtrain\u001b[0m     \u001b[38;5;10m\u001b[1m0.70\u001b[0m  \u001b[38;5;150m1.261788\u001b[0m\n",
      "\t\u001b[38;5;12m\u001b[1mvalid\u001b[0m     \u001b[38;5;12m\u001b[1m0.59\u001b[0m  \u001b[38;5;105m0.381675\u001b[0m\n",
      "\t\u001b[38;5;1m\u001b[1mtest\u001b[0m      \u001b[38;5;1m\u001b[1m0.58\u001b[0m  \u001b[38;5;218m0.154169\u001b[0m\n",
      "\u001b[38;5;178m\u001b[1m----------------------------\u001b[0m\n",
      "\u001b[38;5;178m\u001b[1mMean CV scores\u001b[0m\n",
      "\u001b[38;5;178m\u001b[1m----------------------------\u001b[0m\n",
      "\t\u001b[38;5;178m\u001b[1mscore       bal_acc        time\u001b[0m\n",
      "\t\u001b[38;5;10m\u001b[1mtrain\u001b[0m  \u001b[38;5;10m\u001b[1m0.72\u001b[0m \u001b[38;5;150m\u001b[38;5;150m±\u001b[0m\u001b[0m \u001b[38;5;150m0.013\u001b[0m   \u001b[38;5;150m1.4\u001b[0m \u001b[38;5;150m\u001b[38;5;150m±\u001b[0m\u001b[0m \u001b[38;5;150m0.3\u001b[0m\n",
      "\t\u001b[38;5;12m\u001b[1mvalid\u001b[0m  \u001b[38;5;12m\u001b[1m0.58\u001b[0m \u001b[38;5;105m\u001b[38;5;105m±\u001b[0m\u001b[0m \u001b[38;5;105m0.006\u001b[0m  \u001b[38;5;105m0.4\u001b[0m \u001b[38;5;105m\u001b[38;5;105m±\u001b[0m\u001b[0m \u001b[38;5;105m0.03\u001b[0m\n",
      "\t\u001b[38;5;1m\u001b[1mtest\u001b[0m   \u001b[38;5;1m\u001b[1m0.57\u001b[0m \u001b[38;5;218m\u001b[38;5;218m±\u001b[0m\u001b[0m \u001b[38;5;218m0.011\u001b[0m  \u001b[38;5;218m0.2\u001b[0m \u001b[38;5;218m\u001b[38;5;218m±\u001b[0m\u001b[0m \u001b[38;5;218m0.04\u001b[0m\n",
      "\u001b[38;5;178m\u001b[1m----------------------------\u001b[0m\n",
      "\u001b[38;5;178m\u001b[1mBagged scores\u001b[0m\n",
      "\u001b[38;5;178m\u001b[1m----------------------------\u001b[0m\n",
      "\t\u001b[38;5;178m\u001b[1mscore  bal_acc\u001b[0m\n",
      "\t\u001b[38;5;12m\u001b[1mvalid\u001b[0m     \u001b[38;5;12m\u001b[1m0.58\u001b[0m\n",
      "\t\u001b[38;5;1m\u001b[1mtest\u001b[0m      \u001b[38;5;1m\u001b[1m0.57\u001b[0m\n"
     ]
    }
   ],
   "source": [
    "!ramp-test --submission starting_kit"
   ]
  },
  {
   "cell_type": "markdown",
   "metadata": {},
   "source": [
    "We see that the mean CV scores are consistent with the previous result we had. If you use a classifier with more variance, you would see more variation accross CV-folds. \n",
    "\n",
    "<div class=\"alert alert-info\"> \n",
    "    \n",
    "<b>Note on style complicance</b> Every `submissions/*.py` files will be checked for style compliance before running on RAMP server. It is done thanks to the [flake8](https://flake8.pycqa.org/en/latest/) package. Before submitting, you need to fix any error raised by the following terminal command\n",
    "    \n",
    "`$flake8 submissions/`\n",
    "<br/>\n",
    "\n",
    "The **black** auto-formatting tool works very well to automatically format your code accoring to flake8 standard when saving your files in VScode or PyCharm IDEs. \n",
    "\n",
    "You might want to check [this page](https://flake8.pycqa.org/en/3.1.1/user/ignoring-errors.html) for ignoring specific errors in some corner-cases. \n",
    "\n",
    "</div>"
   ]
  },
  {
   "cell_type": "markdown",
   "metadata": {},
   "source": [
    "## Ranking & Ramp-board\n",
    "\n",
    "**On the server**, the participants are ranked according to the balanced accuracy score on the private test data set. However, only the ranking will be available, and not the score in itself in order to avoid overfitting of this private test set. The score on public test will be available as a proxy but your submission could very well have a better ranking on private with a worst balanced accuracy on public. \n",
    "\n",
    "## More information\n",
    "\n",
    "You can find more information in the [README](https://github.com/paris-saclay-cds/ramp-workflow/blob/master/README.md) of the [ramp-workflow library](https://github.com/paris-saclay-cds/ramp-workflow).\n",
    "\n",
    "# Now it's your turn"
   ]
  }
 ],
 "metadata": {
  "kernelspec": {
   "display_name": "Python 3 (ipykernel)",
   "language": "python",
   "name": "python3"
  },
  "language_info": {
   "codemirror_mode": {
    "name": "ipython",
    "version": 3
   },
   "file_extension": ".py",
   "mimetype": "text/x-python",
   "name": "python",
   "nbconvert_exporter": "python",
   "pygments_lexer": "ipython3",
   "version": "3.10.9"
  },
  "vscode": {
   "interpreter": {
    "hash": "660e996360887002a40ea942e5db374dd6dd848379547579d3297b54d2cc0cdb"
   }
  }
 },
 "nbformat": 4,
 "nbformat_minor": 4
}
